{
 "cells": [
  {
   "cell_type": "markdown",
   "metadata": {},
   "source": [
    "# Financial Planning with APIs and Simulations\n",
    "\n",
    "In this Challenge, you’ll create two financial analysis tools by using a single Jupyter notebook:\n",
    "\n",
    "Part 1: A financial planner for emergencies. The members will be able to use this tool to visualize their current savings. The members can then determine if they have enough reserves for an emergency fund.\n",
    "\n",
    "Part 2: A financial planner for retirement. This tool will forecast the performance of their retirement portfolio in 30 years. To do this, the tool will make an Alpaca API call via the Alpaca SDK to get historical price data for use in Monte Carlo simulations.\n",
    "\n",
    "You’ll use the information from the Monte Carlo simulation to answer questions about the portfolio in your Jupyter notebook.\n",
    "\n"
   ]
  },
  {
   "cell_type": "code",
   "execution_count": 42,
   "metadata": {},
   "outputs": [],
   "source": [
    "# Import the required libraries and dependencies\r\n",
    "import os\r\n",
    "import requests\r\n",
    "import json\r\n",
    "import pandas as pd\r\n",
    "from dotenv import load_dotenv\r\n",
    "import alpaca_trade_api as tradeapi\r\n",
    "from MCForecastTools import MCSimulation\r\n",
    "import requests\r\n",
    "import json\r\n",
    "# Import the MCSimulation module from the MCForecastTools library file\r\n",
    "from MCForecastTools import MCSimulation\r\n",
    "\r\n",
    "\r\n",
    "%matplotlib inline"
   ]
  },
  {
   "cell_type": "code",
   "execution_count": 43,
   "metadata": {},
   "outputs": [
    {
     "data": {
      "text/plain": [
       "True"
      ]
     },
     "execution_count": 43,
     "metadata": {},
     "output_type": "execute_result"
    }
   ],
   "source": [
    "# Load the environment variables from the .env file\r\n",
    "#by calling the load_dotenv function\r\n",
    "load_dotenv(\"ALPACA.env\")"
   ]
  },
  {
   "cell_type": "markdown",
   "metadata": {},
   "source": [
    "## Part 1: Create a Financial Planner for Emergencies"
   ]
  },
  {
   "cell_type": "markdown",
   "metadata": {},
   "source": [
    "### Evaluate the Cryptocurrency Wallet by Using the Requests Library\n",
    "\n",
    "In this section, you’ll determine the current value of a member’s cryptocurrency wallet. You’ll collect the current prices for the Bitcoin and Ethereum cryptocurrencies by using the Python Requests library. For the prototype, you’ll assume that the member holds the 1.2 Bitcoins (BTC) and 5.3 Ethereum coins (ETH). To do all this, complete the following steps:\n",
    "\n",
    "1. Create a variable named `monthly_income`, and set its value to `12000`.\n",
    "\n",
    "2. Use the Requests library to get the current price (in US dollars) of Bitcoin (BTC) and Ethereum (ETH) by using the API endpoints that the starter code supplies.\n",
    "\n",
    "3. Navigate the JSON response object to access the current price of each coin, and store each in a variable.\n",
    "\n",
    "    > **Hint** Note the specific identifier for each cryptocurrency in the API JSON response. The Bitcoin identifier is `1`, and the Ethereum identifier is `1027`.\n",
    "\n",
    "4. Calculate the value, in US dollars, of the current amount of each cryptocurrency and of the entire cryptocurrency wallet.\n",
    "\n"
   ]
  },
  {
   "cell_type": "code",
   "execution_count": 44,
   "metadata": {},
   "outputs": [],
   "source": [
    "# # The current number of coins for each cryptocurrency asset held in the portfolio.\r\n",
    "btc_coins = 1.2\r\n",
    "eth_coins = 5.3"
   ]
  },
  {
   "cell_type": "markdown",
   "metadata": {},
   "source": [
    "#### Step 1: Create a variable named `monthly_income`, and set its value to `12000`."
   ]
  },
  {
   "cell_type": "code",
   "execution_count": 45,
   "metadata": {},
   "outputs": [],
   "source": [
    "# The monthly amount for the member's household income\r\n",
    "monthly_income = 12000\r\n"
   ]
  },
  {
   "cell_type": "markdown",
   "metadata": {},
   "source": [
    "#### Review the endpoint URLs for the API calls to Free Crypto API in order to get the current pricing information for both BTC and ETH."
   ]
  },
  {
   "cell_type": "code",
   "execution_count": 46,
   "metadata": {},
   "outputs": [],
   "source": [
    "# The Free Crypto API Call endpoint URLs for the held cryptocurrency assets\n",
    "btc_url = \"https://api.alternative.me/v2/ticker/Bitcoin/?convert=USD\"\n",
    "eth_url = \"https://api.alternative.me/v2/ticker/Ethereum/?convert=USD\""
   ]
  },
  {
   "cell_type": "markdown",
   "metadata": {},
   "source": [
    "#### Step 2. Use the Requests library to get the current price (in US dollars) of Bitcoin (BTC) and Ethereum (ETH) by using the API endpoints that the starter code supplied."
   ]
  },
  {
   "cell_type": "code",
   "execution_count": 47,
   "metadata": {},
   "outputs": [
    {
     "name": "stdout",
     "output_type": "stream",
     "text": [
      "{\n",
      "    \"data\": {\n",
      "        \"1\": {\n",
      "            \"circulating_supply\": 18768875,\n",
      "            \"id\": 1,\n",
      "            \"last_updated\": 1627448970,\n",
      "            \"max_supply\": 21000000,\n",
      "            \"name\": \"Bitcoin\",\n",
      "            \"quotes\": {\n",
      "                \"USD\": {\n",
      "                    \"market_cap\": 746297758999,\n",
      "                    \"percent_change_1h\": -0.212557318980052,\n",
      "                    \"percent_change_24h\": 7.0986884512438,\n",
      "                    \"percent_change_7d\": 32.7652714165306,\n",
      "                    \"percentage_change_1h\": -0.212557318980052,\n",
      "                    \"percentage_change_24h\": 7.0986884512438,\n",
      "                    \"percentage_change_7d\": 32.7652714165306,\n",
      "                    \"price\": 39792.0,\n",
      "                    \"volume_24h\": 38889098747\n",
      "                }\n",
      "            },\n",
      "            \"rank\": 1,\n",
      "            \"symbol\": \"BTC\",\n",
      "            \"total_supply\": 18768875,\n",
      "            \"website_slug\": \"bitcoin\"\n",
      "        }\n",
      "    },\n",
      "    \"metadata\": {\n",
      "        \"error\": null,\n",
      "        \"num_cryptocurrencies\": 3105,\n",
      "        \"timestamp\": 1627448970\n",
      "    }\n",
      "}\n"
     ]
    }
   ],
   "source": [
    "# Using the Python requests library, make an API call to access the current price of BTC\r\n",
    "btc_response = requests.get(btc_url).json()\r\n",
    "\r\n",
    "# Use the json.dumps function to review the response data from the API call\r\n",
    "# Use the indent and sort_keys parameters to make the response object readable\r\n",
    "print(json.dumps(btc_response,indent=4, sort_keys=True))\r\n"
   ]
  },
  {
   "cell_type": "code",
   "execution_count": 48,
   "metadata": {},
   "outputs": [
    {
     "name": "stdout",
     "output_type": "stream",
     "text": [
      "{\n",
      "    \"data\": {\n",
      "        \"1027\": {\n",
      "            \"circulating_supply\": 116870959,\n",
      "            \"id\": 1027,\n",
      "            \"last_updated\": 1627448962,\n",
      "            \"max_supply\": 0,\n",
      "            \"name\": \"Ethereum\",\n",
      "            \"quotes\": {\n",
      "                \"USD\": {\n",
      "                    \"market_cap\": 267295272899,\n",
      "                    \"percent_change_1h\": -0.134661882923982,\n",
      "                    \"percent_change_24h\": 4.20508742498644,\n",
      "                    \"percent_change_7d\": 27.472587742449,\n",
      "                    \"percentage_change_1h\": -0.134661882923982,\n",
      "                    \"percentage_change_24h\": 4.20508742498644,\n",
      "                    \"percentage_change_7d\": 27.472587742449,\n",
      "                    \"price\": 2288.1,\n",
      "                    \"volume_24h\": 27758452241\n",
      "                }\n",
      "            },\n",
      "            \"rank\": 2,\n",
      "            \"symbol\": \"ETH\",\n",
      "            \"total_supply\": 116870959,\n",
      "            \"website_slug\": \"ethereum\"\n",
      "        }\n",
      "    },\n",
      "    \"metadata\": {\n",
      "        \"error\": null,\n",
      "        \"num_cryptocurrencies\": 3105,\n",
      "        \"timestamp\": 1627448962\n",
      "    }\n",
      "}\n"
     ]
    }
   ],
   "source": [
    "# Using the Python requests library, make an API call to access the current price ETH\r\n",
    "eth_response = requests.get(eth_url).json()\r\n",
    "\r\n",
    "# Use the json.dumps function to review the response data from the API call\r\n",
    "# Use the indent and sort_keys parameters to make the response object readable\r\n",
    "print(json.dumps(eth_response, indent=4, sort_keys=True))\r\n"
   ]
  },
  {
   "cell_type": "markdown",
   "metadata": {},
   "source": [
    "#### Step 3: Navigate the JSON response object to access the current price of each coin, and store each in a variable."
   ]
  },
  {
   "cell_type": "code",
   "execution_count": 49,
   "metadata": {},
   "outputs": [
    {
     "name": "stdout",
     "output_type": "stream",
     "text": [
      "The price for BTC is $39792.0\n"
     ]
    }
   ],
   "source": [
    "# Navigate the BTC response object to access the current price of BTC\r\n",
    "btc_price = btc_response['data']['1']['quotes']['USD']['price']\r\n",
    "# Print the current price of BTC\r\n",
    "print(f\"The price for BTC is ${btc_price}\")\r\n"
   ]
  },
  {
   "cell_type": "code",
   "execution_count": 50,
   "metadata": {},
   "outputs": [
    {
     "name": "stdout",
     "output_type": "stream",
     "text": [
      "The price for ETH is $2288.1\n"
     ]
    }
   ],
   "source": [
    "# Navigate the BTC response object to access the current price of ETH\r\n",
    "eth_price = eth_response['data']['1027']['quotes']['USD']['price']\r\n",
    "\r\n",
    "# Print the current price of ETH\r\n",
    "print(f\"The price for ETH is ${eth_price}\")\r\n"
   ]
  },
  {
   "cell_type": "markdown",
   "metadata": {},
   "source": [
    "### Step 4: Calculate the value, in US dollars, of the current amount of each cryptocurrency and of the entire cryptocurrency wallet."
   ]
  },
  {
   "cell_type": "code",
   "execution_count": 51,
   "metadata": {},
   "outputs": [
    {
     "name": "stdout",
     "output_type": "stream",
     "text": [
      "The value for the BTC holding is $47,750.40\n"
     ]
    }
   ],
   "source": [
    "# Compute the current value of the BTC holding \r\n",
    "btc_value = btc_coins * btc_price\r\n",
    "\r\n",
    "# Print current value of your holding in BTC\r\n",
    "print(f\"The value for the BTC holding is ${btc_value:,.2f}\")\r\n"
   ]
  },
  {
   "cell_type": "code",
   "execution_count": 52,
   "metadata": {},
   "outputs": [
    {
     "name": "stdout",
     "output_type": "stream",
     "text": [
      "The value for the ETH holding is $12,126.93\n"
     ]
    }
   ],
   "source": [
    "# Compute the current value of the ETH holding \r\n",
    "eth_value = eth_coins * eth_price\r\n",
    "\r\n",
    "# Print current value of your holding in ETH\r\n",
    "print(f\"The value for the ETH holding is ${eth_value:,.2f}\")\r\n"
   ]
  },
  {
   "cell_type": "code",
   "execution_count": 53,
   "metadata": {},
   "outputs": [
    {
     "name": "stdout",
     "output_type": "stream",
     "text": [
      "The value of the cryptocurrency wallet is $51,918.93\n"
     ]
    }
   ],
   "source": [
    "# Compute the total value of the cryptocurrency wallet\r\n",
    "# Add the value of the BTC holding to the value of the ETH holding\r\n",
    "total_crypto_wallet = eth_value + btc_price\r\n",
    "\r\n",
    "# Print current cryptocurrency wallet balance\r\n",
    "print(f\"The value of the cryptocurrency wallet is ${total_crypto_wallet:,.2f}\")\r\n"
   ]
  },
  {
   "cell_type": "markdown",
   "metadata": {},
   "source": [
    "### Evaluate the Stock and Bond Holdings by Using the Alpaca SDK\n",
    "\n",
    "In this section, you’ll determine the current value of a member’s stock and bond holdings. You’ll make an API call to Alpaca via the Alpaca SDK to get the current closing prices of the SPDR S&P 500 ETF Trust (ticker: SPY) and of the iShares Core US Aggregate Bond ETF (ticker: AGG). For the prototype, assume that the member holds 110 shares of SPY, which represents the stock portion of their portfolio, and 200 shares of AGG, which represents the bond portion. To do all this, complete the following steps:\n",
    "\n",
    "1. In the `Starter_Code` folder, create an environment file (`.env`) to store the values of your Alpaca API key and Alpaca secret key.\n",
    "\n",
    "2. Set the variables for the Alpaca API and secret keys. Using the Alpaca SDK, create the Alpaca `tradeapi.REST` object. In this object, include the parameters for the Alpaca API key, the secret key, and the version number.\n",
    "\n",
    "3. Set the following parameters for the Alpaca API call:\n",
    "\n",
    "    - `tickers`: Use the tickers for the member’s stock and bond holdings.\n",
    "\n",
    "    - `timeframe`: Use a time frame of one day.\n",
    "\n",
    "    - `start_date` and `end_date`: Use the same date for these parameters, and format them with the date of the previous weekday (or `2020-08-07`). This is because you want the one closing price for the most-recent trading day.\n",
    "\n",
    "4. Get the current closing prices for `SPY` and `AGG` by using the Alpaca `get_barset` function. Format the response as a Pandas DataFrame by including the `df` property at the end of the `get_barset` function.\n",
    "\n",
    "5. Navigating the Alpaca response DataFrame, select the `SPY` and `AGG` closing prices, and store them as variables.\n",
    "\n",
    "6. Calculate the value, in US dollars, of the current amount of shares in each of the stock and bond portions of the portfolio, and print the results.\n"
   ]
  },
  {
   "cell_type": "markdown",
   "metadata": {},
   "source": [
    "#### Review the total number of shares held in both (SPY) and (AGG)."
   ]
  },
  {
   "cell_type": "code",
   "execution_count": 54,
   "metadata": {},
   "outputs": [],
   "source": [
    "# Current amount of shares held in both the stock (SPY) and bond (AGG) portion of the portfolio.\n",
    "spy_shares = 110\n",
    "agg_shares = 200\n"
   ]
  },
  {
   "cell_type": "markdown",
   "metadata": {},
   "source": [
    "#### Step 1: In the `Starter_Code` folder, create an environment file (`.env`) to store the values of your Alpaca API key and Alpaca secret key."
   ]
  },
  {
   "cell_type": "markdown",
   "metadata": {},
   "source": [
    "#### Step 2: Set the variables for the Alpaca API and secret keys. Using the Alpaca SDK, create the Alpaca `tradeapi.REST` object. In this object, include the parameters for the Alpaca API key, the secret key, and the version number."
   ]
  },
  {
   "cell_type": "markdown",
   "metadata": {},
   "source": []
  },
  {
   "cell_type": "code",
   "execution_count": 55,
   "metadata": {},
   "outputs": [],
   "source": [
    "# Set the variables for the Alpaca API and secret keys\r\n",
    "\r\n",
    "# Set Alpaca key\r\n",
    "alpaca_api_key = os.getenv(\"ALPACA_API_KEY\")\r\n",
    "type(alpaca_api_key)\r\n",
    "\r\n",
    "# Set Alpaca secret\r\n",
    "alpaca_api_secret_key = os.getenv(\"ALPACA_SECRET_KEY\")\r\n",
    "\r\n",
    "# Set Alpaca Base Url\r\n",
    "alpaca_api_base_url= os.getenv(\"APCA_API_BASE_URL\")\r\n",
    "\r\n",
    "# Create the Alpaca tradeapi.REST object\r\n",
    "api = tradeapi.REST(alpaca_api_key, alpaca_api_secret_key, api_version=\"v2\")\r\n",
    "\r\n"
   ]
  },
  {
   "cell_type": "markdown",
   "metadata": {},
   "source": [
    "#### Step 3: Set the following parameters for the Alpaca API call:\n",
    "\n",
    "- `tickers`: Use the tickers for the member’s stock and bond holdings.\n",
    "\n",
    "- `timeframe`: Use a time frame of one day.\n",
    "\n",
    "- `start_date` and `end_date`: Use the same date for these parameters, and format them with the date of the previous weekday (or `2020-08-07`). This is because you want the one closing price for the most-recent trading day.\n"
   ]
  },
  {
   "cell_type": "code",
   "execution_count": 56,
   "metadata": {},
   "outputs": [],
   "source": [
    "# Set the tickers for both the bond and stock portion of the portfolio\r\n",
    "tickers = [\"SPY\",\"AGG\"]\r\n",
    "\r\n",
    "# Set timeframe to 1D \r\n",
    "timeframe = \"1D\"\r\n",
    "\r\n",
    "# Format current date as ISO format\r\n",
    "# Set both the start and end date at the date of your prior weekday \r\n",
    "# This will give you the closing price of the previous trading day\r\n",
    "# Alternatively you can use a start and end date of 2020-08-07\r\n",
    "\r\n",
    "NY = \"America/New_York\"\r\n",
    "start_date = pd.Timestamp(\"2021-07-23\", tz=NY).isoformat()\r\n",
    "end_date = pd.Timestamp(\"2021-07-23\", tz=NY).isoformat()\r\n"
   ]
  },
  {
   "cell_type": "markdown",
   "metadata": {},
   "source": [
    "#### Step 4: Get the current closing prices for `SPY` and `AGG` by using the Alpaca `get_barset` function. Format the response as a Pandas DataFrame by including the `df` property at the end of the `get_barset` function."
   ]
  },
  {
   "cell_type": "code",
   "execution_count": 57,
   "metadata": {},
   "outputs": [
    {
     "data": {
      "text/html": [
       "<div>\n",
       "<style scoped>\n",
       "    .dataframe tbody tr th:only-of-type {\n",
       "        vertical-align: middle;\n",
       "    }\n",
       "\n",
       "    .dataframe tbody tr th {\n",
       "        vertical-align: top;\n",
       "    }\n",
       "\n",
       "    .dataframe thead tr th {\n",
       "        text-align: left;\n",
       "    }\n",
       "\n",
       "    .dataframe thead tr:last-of-type th {\n",
       "        text-align: right;\n",
       "    }\n",
       "</style>\n",
       "<table border=\"1\" class=\"dataframe\">\n",
       "  <thead>\n",
       "    <tr>\n",
       "      <th></th>\n",
       "      <th colspan=\"5\" halign=\"left\">AGG</th>\n",
       "      <th colspan=\"5\" halign=\"left\">SPY</th>\n",
       "    </tr>\n",
       "    <tr>\n",
       "      <th></th>\n",
       "      <th>open</th>\n",
       "      <th>high</th>\n",
       "      <th>low</th>\n",
       "      <th>close</th>\n",
       "      <th>volume</th>\n",
       "      <th>open</th>\n",
       "      <th>high</th>\n",
       "      <th>low</th>\n",
       "      <th>close</th>\n",
       "      <th>volume</th>\n",
       "    </tr>\n",
       "    <tr>\n",
       "      <th>time</th>\n",
       "      <th></th>\n",
       "      <th></th>\n",
       "      <th></th>\n",
       "      <th></th>\n",
       "      <th></th>\n",
       "      <th></th>\n",
       "      <th></th>\n",
       "      <th></th>\n",
       "      <th></th>\n",
       "      <th></th>\n",
       "    </tr>\n",
       "  </thead>\n",
       "  <tbody>\n",
       "    <tr>\n",
       "      <th>2021-07-23 00:00:00-04:00</th>\n",
       "      <td>116.03</td>\n",
       "      <td>116.22</td>\n",
       "      <td>116.03</td>\n",
       "      <td>116.21</td>\n",
       "      <td>4137100</td>\n",
       "      <td>437.53</td>\n",
       "      <td>440.3</td>\n",
       "      <td>436.79</td>\n",
       "      <td>439.9</td>\n",
       "      <td>53294703</td>\n",
       "    </tr>\n",
       "  </tbody>\n",
       "</table>\n",
       "</div>"
      ],
      "text/plain": [
       "                              AGG                                      SPY  \\\n",
       "                             open    high     low   close   volume    open   \n",
       "time                                                                         \n",
       "2021-07-23 00:00:00-04:00  116.03  116.22  116.03  116.21  4137100  437.53   \n",
       "\n",
       "                                                           \n",
       "                            high     low  close    volume  \n",
       "time                                                       \n",
       "2021-07-23 00:00:00-04:00  440.3  436.79  439.9  53294703  "
      ]
     },
     "execution_count": 57,
     "metadata": {},
     "output_type": "execute_result"
    }
   ],
   "source": [
    "# Use the Alpaca get_barset function to get current closing prices the portfolio\r\n",
    "# Be sure to set the `df` property after the function to format the response object as a DataFrame\r\n",
    "portfolio_df = api.get_barset(tickers,timeframe,start=start_date,end=end_date).df\r\n",
    "\r\n",
    "# Review the first 5 rows of the Alpaca DataFrame\r\n",
    "portfolio_df.head()\r\n"
   ]
  },
  {
   "cell_type": "markdown",
   "metadata": {},
   "source": [
    "#### Step 5: Navigating the Alpaca response DataFrame, select the `SPY` and `AGG` closing prices, and store them as variables."
   ]
  },
  {
   "cell_type": "code",
   "execution_count": 58,
   "metadata": {},
   "outputs": [
    {
     "name": "stdout",
     "output_type": "stream",
     "text": [
      "The AGG closing price $116.21\n"
     ]
    }
   ],
   "source": [
    "# Access the closing price for AGG from the Alpaca DataFrame\r\n",
    "# Converting the value to a floating point number\r\n",
    "agg_close_price = portfolio_df['AGG']['close'][0].astype(float)\r\n",
    "\r\n",
    "\r\n",
    "# Print the AGG closing price\r\n",
    "print(f\"The AGG closing price ${agg_close_price:,.2f}\")\r\n"
   ]
  },
  {
   "cell_type": "code",
   "execution_count": 59,
   "metadata": {},
   "outputs": [
    {
     "name": "stdout",
     "output_type": "stream",
     "text": [
      "The SPY closing price $439.90\n"
     ]
    }
   ],
   "source": [
    "# Access the closing price for SPY from the Alpaca DataFrame\r\n",
    "# Converting the value to a floating point number\r\n",
    "spy_close_price = portfolio_df['SPY']['close'][0].astype(float)\r\n",
    "\r\n",
    "# Print the SPY closing price\r\n",
    "print(f\"The SPY closing price ${spy_close_price:,.2f}\")\r\n"
   ]
  },
  {
   "cell_type": "markdown",
   "metadata": {},
   "source": [
    "#### Step 6: Calculate the value, in US dollars, of the current amount of shares in each of the stock and bond portions of the portfolio, and print the results."
   ]
  },
  {
   "cell_type": "code",
   "execution_count": 60,
   "metadata": {},
   "outputs": [
    {
     "name": "stdout",
     "output_type": "stream",
     "text": [
      "Current value of the bond portfolio: $23,242.00\n"
     ]
    }
   ],
   "source": [
    "# Calculate the current value of the bond portion of the portfolio\r\n",
    "\r\n",
    "agg_value = agg_shares * agg_close_price\r\n",
    "\r\n",
    "# Print the current value of the bond portfolio\r\n",
    "print(f\"Current value of the bond portfolio: ${agg_value:,.2f}\")\r\n"
   ]
  },
  {
   "cell_type": "code",
   "execution_count": 61,
   "metadata": {},
   "outputs": [
    {
     "name": "stdout",
     "output_type": "stream",
     "text": [
      "Current value of the stock portfolio: $48,389.00\n"
     ]
    }
   ],
   "source": [
    "# Calculate the current value of the stock portion of the portfolio\r\n",
    "spy_value = spy_shares * spy_close_price\r\n",
    "\r\n",
    "# Print the current value of the stock portfolio\r\n",
    "print(f\"Current value of the stock portfolio: ${spy_value:,.2f}\")\r\n"
   ]
  },
  {
   "cell_type": "code",
   "execution_count": 62,
   "metadata": {},
   "outputs": [
    {
     "name": "stdout",
     "output_type": "stream",
     "text": [
      "Current value of the stock and portfolio: $71,631.00\n"
     ]
    }
   ],
   "source": [
    "# Calculate the total value of the stock and bond portion of the portfolio\r\n",
    "total_stocks_bonds = spy_value + agg_value\r\n",
    "\r\n",
    "# Print the current balance of the stock and bond portion of the portfolio\r\n",
    "print(f\"Current value of the stock and portfolio: ${total_stocks_bonds:,.2f}\")"
   ]
  },
  {
   "cell_type": "code",
   "execution_count": 63,
   "metadata": {},
   "outputs": [
    {
     "name": "stdout",
     "output_type": "stream",
     "text": [
      "Current value of the member's entire portfolio: $123,549.93\n"
     ]
    }
   ],
   "source": [
    "# Calculate the total value of the member's entire savings portfolio\r\n",
    "# Add the value of the cryptocurrency walled to the value of the total stocks and bonds\r\n",
    "total_portfolio =  total_crypto_wallet + total_stocks_bonds \r\n",
    "# Print total value of portfolio\r\n",
    "print(f\"Current value of the member's entire portfolio: ${total_portfolio:,.2f}\")\r\n"
   ]
  },
  {
   "cell_type": "markdown",
   "metadata": {},
   "source": [
    "### Evaluate the Emergency Fund\n",
    "\n",
    "In this section, you’ll use the valuations for the cryptocurrency wallet and for the stock and bond portions of the portfolio to determine if the credit union member has enough savings to build an emergency fund into their financial plan. To do this, complete the following steps:\n",
    "\n",
    "1. Create a Python list named `savings_data` that has two elements. The first element contains the total value of the cryptocurrency wallet. The second element contains the total value of the stock and bond portions of the portfolio.\n",
    "\n",
    "2. Use the `savings_data` list to create a Pandas DataFrame named `savings_df`, and then display this DataFrame. The function to create the DataFrame should take the following three parameters:\n",
    "\n",
    "    - `savings_data`: Use the list that you just created.\n",
    "\n",
    "    - `columns`: Set this parameter equal to a Python list with a single value called `amount`.\n",
    "\n",
    "    - `index`: Set this parameter equal to a Python list with the values of `crypto` and `stock/bond`.\n",
    "\n",
    "3. Use the `savings_df` DataFrame to plot a pie chart that visualizes the composition of the member’s portfolio. The y-axis of the pie chart uses `amount`. Be sure to add a title.\n",
    "\n",
    "4. Using Python, determine if the current portfolio has enough to create an emergency fund as part of the member’s financial plan. Ideally, an emergency fund should equal to three times the member’s monthly income. To do this, implement the following steps:\n",
    "\n",
    "    1. Create a variable named `emergency_fund_value`, and set it equal to three times the value of the member’s `monthly_income` of $12000. (You set this earlier in Part 1).\n",
    "\n",
    "    2. Create a series of three if statements to determine if the member’s total portfolio is large enough to fund the emergency portfolio:\n",
    "\n",
    "        1. If the total portfolio value is greater than the emergency fund value, display a message congratulating the member for having enough money in this fund.\n",
    "\n",
    "        2. Else if the total portfolio value is equal to the emergency fund value, display a message congratulating the member on reaching this important financial goal.\n",
    "\n",
    "        3. Else the total portfolio is less than the emergency fund value, so display a message showing how many dollars away the member is from reaching the goal. (Subtract the total portfolio value from the emergency fund value.)\n"
   ]
  },
  {
   "cell_type": "markdown",
   "metadata": {},
   "source": [
    "#### Step 1: Create a Python list named `savings_data` that has two elements. The first element contains the total value of the cryptocurrency wallet. The second element contains the total value of the stock and bond portions of the portfolio."
   ]
  },
  {
   "cell_type": "code",
   "execution_count": 64,
   "metadata": {},
   "outputs": [
    {
     "data": {
      "text/plain": [
       "[51918.93, 71631.0]"
      ]
     },
     "execution_count": 64,
     "metadata": {},
     "output_type": "execute_result"
    }
   ],
   "source": [
    "# Consolidate financial assets data into a Python list\r\n",
    "savings_data =  [total_crypto_wallet,total_stocks_bonds]\r\n",
    "\r\n",
    "# Review the Python list savings_data\r\n",
    "savings_data\r\n",
    "    "
   ]
  },
  {
   "cell_type": "markdown",
   "metadata": {},
   "source": [
    "#### Step 2: Use the `savings_data` list to create a Pandas DataFrame named `savings_df`, and then display this DataFrame. The function to create the DataFrame should take the following three parameters:\n",
    "\n",
    "- `savings_data`: Use the list that you just created.\n",
    "\n",
    "- `columns`: Set this parameter equal to a Python list with a single value called `amount`.\n",
    "\n",
    "- `index`: Set this parameter equal to a Python list with the values of `crypto` and `stock/bond`.\n"
   ]
  },
  {
   "cell_type": "code",
   "execution_count": 65,
   "metadata": {},
   "outputs": [
    {
     "data": {
      "text/html": [
       "<div>\n",
       "<style scoped>\n",
       "    .dataframe tbody tr th:only-of-type {\n",
       "        vertical-align: middle;\n",
       "    }\n",
       "\n",
       "    .dataframe tbody tr th {\n",
       "        vertical-align: top;\n",
       "    }\n",
       "\n",
       "    .dataframe thead th {\n",
       "        text-align: right;\n",
       "    }\n",
       "</style>\n",
       "<table border=\"1\" class=\"dataframe\">\n",
       "  <thead>\n",
       "    <tr style=\"text-align: right;\">\n",
       "      <th></th>\n",
       "      <th>amount</th>\n",
       "    </tr>\n",
       "  </thead>\n",
       "  <tbody>\n",
       "    <tr>\n",
       "      <th>crypto</th>\n",
       "      <td>51918.93</td>\n",
       "    </tr>\n",
       "    <tr>\n",
       "      <th>stock/bond</th>\n",
       "      <td>71631.00</td>\n",
       "    </tr>\n",
       "  </tbody>\n",
       "</table>\n",
       "</div>"
      ],
      "text/plain": [
       "              amount\n",
       "crypto      51918.93\n",
       "stock/bond  71631.00"
      ]
     },
     "execution_count": 65,
     "metadata": {},
     "output_type": "execute_result"
    }
   ],
   "source": [
    "# Create a Pandas DataFrame called savings_df \r\n",
    "savings_df = pd.DataFrame(savings_data,\r\n",
    "    columns= ['amount'],\r\n",
    "    index = ['crypto','stock/bond']\r\n",
    ")\r\n",
    "\r\n",
    "# Display the savings_df DataFrame\r\n",
    "savings_df\r\n"
   ]
  },
  {
   "cell_type": "code",
   "execution_count": null,
   "metadata": {},
   "outputs": [],
   "source": []
  },
  {
   "cell_type": "markdown",
   "metadata": {},
   "source": [
    "#### Step 3: Use the `savings_df` DataFrame to plot a pie chart that visualizes the composition of the member’s portfolio. The y-axis of the pie chart uses `amount`. Be sure to add a title."
   ]
  },
  {
   "cell_type": "code",
   "execution_count": 66,
   "metadata": {},
   "outputs": [
    {
     "data": {
      "image/png": "[encoded data removed]",
      "text/plain": [
       "<Figure size 504x504 with 1 Axes>"
      ]
     },
     "metadata": {},
     "output_type": "display_data"
    }
   ],
   "source": [
    "# Plot the total value of the member's portfolio (crypto and stock/bond) in a pie chart\r\n",
    "plot= savings_df.plot.pie(y='amount',figsize=(7,7))\r\n"
   ]
  },
  {
   "cell_type": "markdown",
   "metadata": {},
   "source": [
    "#### Step 4: Using Python, determine if the current portfolio has enough to create an emergency fund as part of the member’s financial plan. Ideally, an emergency fund should equal to three times the member’s monthly income. To do this, implement the following steps:\n",
    "\n",
    "Step 1. Create a variable named `emergency_fund_value`, and set it equal to three times the value of the member’s `monthly_income` of 12000. (You set this earlier in Part 1).\n",
    "\n",
    "Step 2. Create a series of three if statements to determine if the member’s total portfolio is large enough to fund the emergency portfolio:\n",
    "\n",
    "* If the total portfolio value is greater than the emergency fund value, display a message congratulating the member for having enough money in this fund.\n",
    "\n",
    "* Else if the total portfolio value is equal to the emergency fund value, display a message congratulating the member on reaching this important financial goal.\n",
    "\n",
    "* Else the total portfolio is less than the emergency fund value, so display a message showing how many dollars away the member is from reaching the goal. (Subtract the total portfolio value from the emergency fund value.)\n"
   ]
  },
  {
   "cell_type": "markdown",
   "metadata": {},
   "source": [
    "##### Step 4-1: Create a variable named `emergency_fund_value`, and set it equal to three times the value of the member’s `monthly_income` of 12000. (You set this earlier in Part 1)."
   ]
  },
  {
   "cell_type": "code",
   "execution_count": 67,
   "metadata": {},
   "outputs": [
    {
     "name": "stdout",
     "output_type": "stream",
     "text": [
      "Current value of the emergency fund: $36,000.00\n"
     ]
    }
   ],
   "source": [
    "# Create a variable named emergency_fund_value\r\n",
    "emergency_fund_value = monthly_income * 3\r\n",
    "\r\n",
    " # Print the current value of the stock portfolio\r\n",
    "print(f\"Current value of the emergency fund: ${emergency_fund_value:,.2f}\")\r\n"
   ]
  },
  {
   "cell_type": "markdown",
   "metadata": {},
   "source": [
    "##### Step 4-2: Create a series of three if statements to determine if the member’s total portfolio is large enough to fund the emergency portfolio:\n",
    "\n",
    "* If the total portfolio value is greater than the emergency fund value, display a message congratulating the member for having enough money in this fund.\n",
    "\n",
    "* Else if the total portfolio value is equal to the emergency fund value, display a message congratulating the member on reaching this important financial goal.\n",
    "\n",
    "* Else the total portfolio is less than the emergency fund value, so display a message showing how many dollars away the member is from reaching the goal. (Subtract the total portfolio value from the emergency fund value.)"
   ]
  },
  {
   "cell_type": "code",
   "execution_count": 68,
   "metadata": {},
   "outputs": [
    {
     "name": "stdout",
     "output_type": "stream",
     "text": [
      "Congratulations! Your portfolio is fully funded.\n"
     ]
    }
   ],
   "source": [
    "# Evaluate the possibility of creating an emergency fund with 3 conditions:\r\n",
    "if (total_portfolio > emergency_fund_value):\r\n",
    "    print(\"Congratulations! Your portfolio is fully funded.\")\r\n",
    "elif (total_portfolio == emergency_fund_value):\r\n",
    "    print(\"Congratulations! Your profolio value equals your emegency fund. This is an important financial milestone\")\r\n",
    "else:\r\n",
    "    print(f\"There is more work to do. You are ${(emergency_fund_value-total_portfolio):,.2f} from reaching yuour financial goals.\")\r\n"
   ]
  },
  {
   "cell_type": "markdown",
   "metadata": {},
   "source": [
    "## Part 2: Create a Financial Planner for Retirement"
   ]
  },
  {
   "cell_type": "markdown",
   "metadata": {},
   "source": [
    "### Create the Monte Carlo Simulation\n",
    "\n",
    "In this section, you’ll use the MCForecastTools library to create a Monte Carlo simulation for the member’s savings portfolio. To do this, complete the following steps:\n",
    "\n",
    "1. Make an API call via the Alpaca SDK to get 3 years of historical closing prices for a traditional 60/40 portfolio split: 60% stocks (SPY) and 40% bonds (AGG).\n",
    "\n",
    "2. Run a Monte Carlo simulation of 500 samples and 30 years for the 60/40 portfolio, and then plot the results.The following image shows the overlay line plot resulting from a simulation with these characteristics. However, because a random number generator is used to run each live Monte Carlo simulation, your image will differ slightly from this exact image:\n",
    "\n",
    "![A screenshot depicts the resulting plot.](Images/5-4-monte-carlo-line-plot.png)\n",
    "\n",
    "3. Plot the probability distribution of the Monte Carlo simulation. Plot the probability distribution of the Monte Carlo simulation. The following image shows the histogram plot resulting from a simulation with these characteristics. However, because a random number generator is used to run each live Monte Carlo simulation, your image will differ slightly from this exact image:\n",
    "\n",
    "![A screenshot depicts the histogram plot.](Images/5-4-monte-carlo-histogram.png)\n",
    "\n",
    "4. Generate the summary statistics for the Monte Carlo simulation.\n",
    "\n"
   ]
  },
  {
   "cell_type": "markdown",
   "metadata": {},
   "source": [
    "#### Step 1: Make an API call via the Alpaca SDK to get 3 years of historical closing prices for a traditional 60/40 portfolio split: 60% stocks (SPY) and 40% bonds (AGG)."
   ]
  },
  {
   "cell_type": "code",
   "execution_count": 69,
   "metadata": {},
   "outputs": [],
   "source": [
    "# Set start and end dates of 3 years back from your current date\r\n",
    "# Alternatively, you can use an end date of 2020-08-07 and work 3 years back from that date \r\n",
    "# Set start and end datetimes of 1 year, between now and 365 days ago.\r\n",
    "start_date = pd.Timestamp(\"2018-07-15\", tz=\"America/New_York\").isoformat()\r\n",
    "end_date = pd.Timestamp(\"2021-07-15\", tz=\"America/New_York\").isoformat()\r\n",
    "\r\n",
    "# Set number of rows to 1000 to retrieve the maximum amount of rows\r\n",
    "limit_rows = 1000"
   ]
  },
  {
   "cell_type": "code",
   "execution_count": 70,
   "metadata": {},
   "outputs": [
    {
     "data": {
      "text/html": [
       "<div>\n",
       "<style scoped>\n",
       "    .dataframe tbody tr th:only-of-type {\n",
       "        vertical-align: middle;\n",
       "    }\n",
       "\n",
       "    .dataframe tbody tr th {\n",
       "        vertical-align: top;\n",
       "    }\n",
       "\n",
       "    .dataframe thead tr th {\n",
       "        text-align: left;\n",
       "    }\n",
       "\n",
       "    .dataframe thead tr:last-of-type th {\n",
       "        text-align: right;\n",
       "    }\n",
       "</style>\n",
       "<table border=\"1\" class=\"dataframe\">\n",
       "  <thead>\n",
       "    <tr>\n",
       "      <th></th>\n",
       "      <th colspan=\"5\" halign=\"left\">AGG</th>\n",
       "      <th colspan=\"5\" halign=\"left\">SPY</th>\n",
       "    </tr>\n",
       "    <tr>\n",
       "      <th></th>\n",
       "      <th>open</th>\n",
       "      <th>high</th>\n",
       "      <th>low</th>\n",
       "      <th>close</th>\n",
       "      <th>volume</th>\n",
       "      <th>open</th>\n",
       "      <th>high</th>\n",
       "      <th>low</th>\n",
       "      <th>close</th>\n",
       "      <th>volume</th>\n",
       "    </tr>\n",
       "    <tr>\n",
       "      <th>time</th>\n",
       "      <th></th>\n",
       "      <th></th>\n",
       "      <th></th>\n",
       "      <th></th>\n",
       "      <th></th>\n",
       "      <th></th>\n",
       "      <th></th>\n",
       "      <th></th>\n",
       "      <th></th>\n",
       "      <th></th>\n",
       "    </tr>\n",
       "  </thead>\n",
       "  <tbody>\n",
       "    <tr>\n",
       "      <th>2018-07-16 00:00:00-04:00</th>\n",
       "      <td>106.35</td>\n",
       "      <td>106.400</td>\n",
       "      <td>106.2434</td>\n",
       "      <td>106.370</td>\n",
       "      <td>1617046</td>\n",
       "      <td>279.64</td>\n",
       "      <td>279.803</td>\n",
       "      <td>278.84</td>\n",
       "      <td>279.35</td>\n",
       "      <td>30340942</td>\n",
       "    </tr>\n",
       "    <tr>\n",
       "      <th>2018-07-17 00:00:00-04:00</th>\n",
       "      <td>106.40</td>\n",
       "      <td>106.450</td>\n",
       "      <td>106.2900</td>\n",
       "      <td>106.330</td>\n",
       "      <td>2716745</td>\n",
       "      <td>278.47</td>\n",
       "      <td>280.910</td>\n",
       "      <td>278.41</td>\n",
       "      <td>280.50</td>\n",
       "      <td>39999168</td>\n",
       "    </tr>\n",
       "    <tr>\n",
       "      <th>2018-07-18 00:00:00-04:00</th>\n",
       "      <td>106.36</td>\n",
       "      <td>106.475</td>\n",
       "      <td>106.2700</td>\n",
       "      <td>106.315</td>\n",
       "      <td>1553081</td>\n",
       "      <td>280.59</td>\n",
       "      <td>281.180</td>\n",
       "      <td>280.06</td>\n",
       "      <td>281.05</td>\n",
       "      <td>30022719</td>\n",
       "    </tr>\n",
       "    <tr>\n",
       "      <th>2018-07-19 00:00:00-04:00</th>\n",
       "      <td>106.34</td>\n",
       "      <td>106.545</td>\n",
       "      <td>106.3100</td>\n",
       "      <td>106.490</td>\n",
       "      <td>1760360</td>\n",
       "      <td>280.31</td>\n",
       "      <td>280.740</td>\n",
       "      <td>279.46</td>\n",
       "      <td>280.01</td>\n",
       "      <td>44342606</td>\n",
       "    </tr>\n",
       "    <tr>\n",
       "      <th>2018-07-20 00:00:00-04:00</th>\n",
       "      <td>106.38</td>\n",
       "      <td>106.480</td>\n",
       "      <td>106.2000</td>\n",
       "      <td>106.260</td>\n",
       "      <td>2792256</td>\n",
       "      <td>279.76</td>\n",
       "      <td>280.480</td>\n",
       "      <td>279.50</td>\n",
       "      <td>279.74</td>\n",
       "      <td>43292444</td>\n",
       "    </tr>\n",
       "  </tbody>\n",
       "</table>\n",
       "</div>"
      ],
      "text/plain": [
       "                              AGG                                       \\\n",
       "                             open     high       low    close   volume   \n",
       "time                                                                     \n",
       "2018-07-16 00:00:00-04:00  106.35  106.400  106.2434  106.370  1617046   \n",
       "2018-07-17 00:00:00-04:00  106.40  106.450  106.2900  106.330  2716745   \n",
       "2018-07-18 00:00:00-04:00  106.36  106.475  106.2700  106.315  1553081   \n",
       "2018-07-19 00:00:00-04:00  106.34  106.545  106.3100  106.490  1760360   \n",
       "2018-07-20 00:00:00-04:00  106.38  106.480  106.2000  106.260  2792256   \n",
       "\n",
       "                              SPY                                     \n",
       "                             open     high     low   close    volume  \n",
       "time                                                                  \n",
       "2018-07-16 00:00:00-04:00  279.64  279.803  278.84  279.35  30340942  \n",
       "2018-07-17 00:00:00-04:00  278.47  280.910  278.41  280.50  39999168  \n",
       "2018-07-18 00:00:00-04:00  280.59  281.180  280.06  281.05  30022719  \n",
       "2018-07-19 00:00:00-04:00  280.31  280.740  279.46  280.01  44342606  \n",
       "2018-07-20 00:00:00-04:00  279.76  280.480  279.50  279.74  43292444  "
      ]
     },
     "metadata": {},
     "output_type": "display_data"
    },
    {
     "data": {
      "text/html": [
       "<div>\n",
       "<style scoped>\n",
       "    .dataframe tbody tr th:only-of-type {\n",
       "        vertical-align: middle;\n",
       "    }\n",
       "\n",
       "    .dataframe tbody tr th {\n",
       "        vertical-align: top;\n",
       "    }\n",
       "\n",
       "    .dataframe thead tr th {\n",
       "        text-align: left;\n",
       "    }\n",
       "\n",
       "    .dataframe thead tr:last-of-type th {\n",
       "        text-align: right;\n",
       "    }\n",
       "</style>\n",
       "<table border=\"1\" class=\"dataframe\">\n",
       "  <thead>\n",
       "    <tr>\n",
       "      <th></th>\n",
       "      <th colspan=\"5\" halign=\"left\">AGG</th>\n",
       "      <th colspan=\"5\" halign=\"left\">SPY</th>\n",
       "    </tr>\n",
       "    <tr>\n",
       "      <th></th>\n",
       "      <th>open</th>\n",
       "      <th>high</th>\n",
       "      <th>low</th>\n",
       "      <th>close</th>\n",
       "      <th>volume</th>\n",
       "      <th>open</th>\n",
       "      <th>high</th>\n",
       "      <th>low</th>\n",
       "      <th>close</th>\n",
       "      <th>volume</th>\n",
       "    </tr>\n",
       "    <tr>\n",
       "      <th>time</th>\n",
       "      <th></th>\n",
       "      <th></th>\n",
       "      <th></th>\n",
       "      <th></th>\n",
       "      <th></th>\n",
       "      <th></th>\n",
       "      <th></th>\n",
       "      <th></th>\n",
       "      <th></th>\n",
       "      <th></th>\n",
       "    </tr>\n",
       "  </thead>\n",
       "  <tbody>\n",
       "    <tr>\n",
       "      <th>2021-07-09 00:00:00-04:00</th>\n",
       "      <td>115.735</td>\n",
       "      <td>115.760</td>\n",
       "      <td>115.6900</td>\n",
       "      <td>115.69</td>\n",
       "      <td>4602694</td>\n",
       "      <td>432.53</td>\n",
       "      <td>435.84</td>\n",
       "      <td>430.714</td>\n",
       "      <td>435.48</td>\n",
       "      <td>59254094</td>\n",
       "    </tr>\n",
       "    <tr>\n",
       "      <th>2021-07-12 00:00:00-04:00</th>\n",
       "      <td>115.800</td>\n",
       "      <td>115.805</td>\n",
       "      <td>115.6000</td>\n",
       "      <td>115.63</td>\n",
       "      <td>3184908</td>\n",
       "      <td>435.42</td>\n",
       "      <td>437.35</td>\n",
       "      <td>434.970</td>\n",
       "      <td>437.08</td>\n",
       "      <td>42031814</td>\n",
       "    </tr>\n",
       "    <tr>\n",
       "      <th>2021-07-13 00:00:00-04:00</th>\n",
       "      <td>115.650</td>\n",
       "      <td>115.760</td>\n",
       "      <td>115.3022</td>\n",
       "      <td>115.39</td>\n",
       "      <td>4698374</td>\n",
       "      <td>436.26</td>\n",
       "      <td>437.84</td>\n",
       "      <td>435.310</td>\n",
       "      <td>435.62</td>\n",
       "      <td>45923305</td>\n",
       "    </tr>\n",
       "    <tr>\n",
       "      <th>2021-07-14 00:00:00-04:00</th>\n",
       "      <td>115.590</td>\n",
       "      <td>115.760</td>\n",
       "      <td>115.5690</td>\n",
       "      <td>115.75</td>\n",
       "      <td>3907266</td>\n",
       "      <td>437.39</td>\n",
       "      <td>437.92</td>\n",
       "      <td>434.910</td>\n",
       "      <td>436.22</td>\n",
       "      <td>54445950</td>\n",
       "    </tr>\n",
       "    <tr>\n",
       "      <th>2021-07-15 00:00:00-04:00</th>\n",
       "      <td>115.940</td>\n",
       "      <td>116.020</td>\n",
       "      <td>115.7222</td>\n",
       "      <td>115.99</td>\n",
       "      <td>3675913</td>\n",
       "      <td>434.81</td>\n",
       "      <td>435.53</td>\n",
       "      <td>432.720</td>\n",
       "      <td>434.73</td>\n",
       "      <td>50376465</td>\n",
       "    </tr>\n",
       "  </tbody>\n",
       "</table>\n",
       "</div>"
      ],
      "text/plain": [
       "                               AGG                                      \\\n",
       "                              open     high       low   close   volume   \n",
       "time                                                                     \n",
       "2021-07-09 00:00:00-04:00  115.735  115.760  115.6900  115.69  4602694   \n",
       "2021-07-12 00:00:00-04:00  115.800  115.805  115.6000  115.63  3184908   \n",
       "2021-07-13 00:00:00-04:00  115.650  115.760  115.3022  115.39  4698374   \n",
       "2021-07-14 00:00:00-04:00  115.590  115.760  115.5690  115.75  3907266   \n",
       "2021-07-15 00:00:00-04:00  115.940  116.020  115.7222  115.99  3675913   \n",
       "\n",
       "                              SPY                                     \n",
       "                             open    high      low   close    volume  \n",
       "time                                                                  \n",
       "2021-07-09 00:00:00-04:00  432.53  435.84  430.714  435.48  59254094  \n",
       "2021-07-12 00:00:00-04:00  435.42  437.35  434.970  437.08  42031814  \n",
       "2021-07-13 00:00:00-04:00  436.26  437.84  435.310  435.62  45923305  \n",
       "2021-07-14 00:00:00-04:00  437.39  437.92  434.910  436.22  54445950  \n",
       "2021-07-15 00:00:00-04:00  434.81  435.53  432.720  434.73  50376465  "
      ]
     },
     "metadata": {},
     "output_type": "display_data"
    }
   ],
   "source": [
    "# Use the Alpaca get_barset function to make the API call to get the 3 years worth of pricing data\r\n",
    "# The tickers and timeframe parameters should have been set in Part 1 of this activity \r\n",
    "# The start and end dates should be updated with the information set above\r\n",
    "# Remember to add the df property to the end of the call so the response is returned as a DataFrame\r\n",
    "\r\n",
    "prices_df = api.get_barset(\r\n",
    "  tickers,\r\n",
    "  timeframe,\r\n",
    "  start=start_date,\r\n",
    "  end=end_date,\r\n",
    "  limit=limit_rows\r\n",
    ").df\r\n",
    "\r\n",
    "# Display both the head and tail of the DataFrame\r\n",
    "display(prices_df.head())\r\n",
    "display(prices_df.tail())\r\n"
   ]
  },
  {
   "cell_type": "markdown",
   "metadata": {},
   "source": [
    "#### Step 2: Run a Monte Carlo simulation of 500 samples and 30 years for the 60/40 portfolio, and then plot the results."
   ]
  },
  {
   "cell_type": "code",
   "execution_count": 87,
   "metadata": {},
   "outputs": [
    {
     "data": {
      "text/html": [
       "<div>\n",
       "<style scoped>\n",
       "    .dataframe tbody tr th:only-of-type {\n",
       "        vertical-align: middle;\n",
       "    }\n",
       "\n",
       "    .dataframe tbody tr th {\n",
       "        vertical-align: top;\n",
       "    }\n",
       "\n",
       "    .dataframe thead tr th {\n",
       "        text-align: left;\n",
       "    }\n",
       "</style>\n",
       "<table border=\"1\" class=\"dataframe\">\n",
       "  <thead>\n",
       "    <tr>\n",
       "      <th></th>\n",
       "      <th colspan=\"6\" halign=\"left\">AGG</th>\n",
       "      <th colspan=\"6\" halign=\"left\">SPY</th>\n",
       "    </tr>\n",
       "    <tr>\n",
       "      <th></th>\n",
       "      <th>open</th>\n",
       "      <th>high</th>\n",
       "      <th>low</th>\n",
       "      <th>close</th>\n",
       "      <th>volume</th>\n",
       "      <th>daily_return</th>\n",
       "      <th>open</th>\n",
       "      <th>high</th>\n",
       "      <th>low</th>\n",
       "      <th>close</th>\n",
       "      <th>volume</th>\n",
       "      <th>daily_return</th>\n",
       "    </tr>\n",
       "  </thead>\n",
       "  <tbody>\n",
       "    <tr>\n",
       "      <th>count</th>\n",
       "      <td>756.000000</td>\n",
       "      <td>756.000000</td>\n",
       "      <td>756.000000</td>\n",
       "      <td>756.000000</td>\n",
       "      <td>7.560000e+02</td>\n",
       "      <td>755.000000</td>\n",
       "      <td>756.000000</td>\n",
       "      <td>756.000000</td>\n",
       "      <td>756.000000</td>\n",
       "      <td>756.000000</td>\n",
       "      <td>7.560000e+02</td>\n",
       "      <td>755.000000</td>\n",
       "    </tr>\n",
       "    <tr>\n",
       "      <th>mean</th>\n",
       "      <td>112.676011</td>\n",
       "      <td>112.822135</td>\n",
       "      <td>112.497692</td>\n",
       "      <td>112.672147</td>\n",
       "      <td>5.381732e+06</td>\n",
       "      <td>0.000121</td>\n",
       "      <td>319.011447</td>\n",
       "      <td>320.898581</td>\n",
       "      <td>316.856306</td>\n",
       "      <td>319.056790</td>\n",
       "      <td>7.903051e+07</td>\n",
       "      <td>0.000691</td>\n",
       "    </tr>\n",
       "    <tr>\n",
       "      <th>std</th>\n",
       "      <td>4.550233</td>\n",
       "      <td>4.546833</td>\n",
       "      <td>4.533968</td>\n",
       "      <td>4.535925</td>\n",
       "      <td>4.640362e+06</td>\n",
       "      <td>0.003562</td>\n",
       "      <td>48.149182</td>\n",
       "      <td>47.957083</td>\n",
       "      <td>48.372875</td>\n",
       "      <td>48.189802</td>\n",
       "      <td>5.481888e+07</td>\n",
       "      <td>0.014436</td>\n",
       "    </tr>\n",
       "    <tr>\n",
       "      <th>min</th>\n",
       "      <td>104.070000</td>\n",
       "      <td>104.169900</td>\n",
       "      <td>103.940000</td>\n",
       "      <td>104.005000</td>\n",
       "      <td>1.230459e+06</td>\n",
       "      <td>-0.040343</td>\n",
       "      <td>228.190000</td>\n",
       "      <td>229.683300</td>\n",
       "      <td>218.260000</td>\n",
       "      <td>222.510000</td>\n",
       "      <td>1.531436e+07</td>\n",
       "      <td>-0.115916</td>\n",
       "    </tr>\n",
       "    <tr>\n",
       "      <th>25%</th>\n",
       "      <td>108.460000</td>\n",
       "      <td>108.545000</td>\n",
       "      <td>108.278750</td>\n",
       "      <td>108.422500</td>\n",
       "      <td>2.797905e+06</td>\n",
       "      <td>-0.001063</td>\n",
       "      <td>284.680000</td>\n",
       "      <td>286.000000</td>\n",
       "      <td>282.382500</td>\n",
       "      <td>284.727500</td>\n",
       "      <td>4.485930e+07</td>\n",
       "      <td>-0.003776</td>\n",
       "    </tr>\n",
       "    <tr>\n",
       "      <th>50%</th>\n",
       "      <td>113.515000</td>\n",
       "      <td>113.729950</td>\n",
       "      <td>113.325000</td>\n",
       "      <td>113.570000</td>\n",
       "      <td>4.031191e+06</td>\n",
       "      <td>0.000233</td>\n",
       "      <td>301.190000</td>\n",
       "      <td>302.215000</td>\n",
       "      <td>299.455050</td>\n",
       "      <td>301.055000</td>\n",
       "      <td>5.936590e+07</td>\n",
       "      <td>0.001000</td>\n",
       "    </tr>\n",
       "    <tr>\n",
       "      <th>75%</th>\n",
       "      <td>117.030000</td>\n",
       "      <td>117.222500</td>\n",
       "      <td>116.833625</td>\n",
       "      <td>117.012500</td>\n",
       "      <td>5.867358e+06</td>\n",
       "      <td>0.001391</td>\n",
       "      <td>343.575000</td>\n",
       "      <td>346.997500</td>\n",
       "      <td>342.315000</td>\n",
       "      <td>343.822475</td>\n",
       "      <td>8.880135e+07</td>\n",
       "      <td>0.006790</td>\n",
       "    </tr>\n",
       "    <tr>\n",
       "      <th>max</th>\n",
       "      <td>119.660000</td>\n",
       "      <td>119.730000</td>\n",
       "      <td>119.530000</td>\n",
       "      <td>119.630000</td>\n",
       "      <td>4.357488e+07</td>\n",
       "      <td>0.027948</td>\n",
       "      <td>437.390000</td>\n",
       "      <td>437.920000</td>\n",
       "      <td>435.310000</td>\n",
       "      <td>437.080000</td>\n",
       "      <td>3.639317e+08</td>\n",
       "      <td>0.094737</td>\n",
       "    </tr>\n",
       "  </tbody>\n",
       "</table>\n",
       "</div>"
      ],
      "text/plain": [
       "              AGG                                                    \\\n",
       "             open        high         low       close        volume   \n",
       "count  756.000000  756.000000  756.000000  756.000000  7.560000e+02   \n",
       "mean   112.676011  112.822135  112.497692  112.672147  5.381732e+06   \n",
       "std      4.550233    4.546833    4.533968    4.535925  4.640362e+06   \n",
       "min    104.070000  104.169900  103.940000  104.005000  1.230459e+06   \n",
       "25%    108.460000  108.545000  108.278750  108.422500  2.797905e+06   \n",
       "50%    113.515000  113.729950  113.325000  113.570000  4.031191e+06   \n",
       "75%    117.030000  117.222500  116.833625  117.012500  5.867358e+06   \n",
       "max    119.660000  119.730000  119.530000  119.630000  4.357488e+07   \n",
       "\n",
       "                           SPY                                      \\\n",
       "      daily_return        open        high         low       close   \n",
       "count   755.000000  756.000000  756.000000  756.000000  756.000000   \n",
       "mean      0.000121  319.011447  320.898581  316.856306  319.056790   \n",
       "std       0.003562   48.149182   47.957083   48.372875   48.189802   \n",
       "min      -0.040343  228.190000  229.683300  218.260000  222.510000   \n",
       "25%      -0.001063  284.680000  286.000000  282.382500  284.727500   \n",
       "50%       0.000233  301.190000  302.215000  299.455050  301.055000   \n",
       "75%       0.001391  343.575000  346.997500  342.315000  343.822475   \n",
       "max       0.027948  437.390000  437.920000  435.310000  437.080000   \n",
       "\n",
       "                                  \n",
       "             volume daily_return  \n",
       "count  7.560000e+02   755.000000  \n",
       "mean   7.903051e+07     0.000691  \n",
       "std    5.481888e+07     0.014436  \n",
       "min    1.531436e+07    -0.115916  \n",
       "25%    4.485930e+07    -0.003776  \n",
       "50%    5.936590e+07     0.001000  \n",
       "75%    8.880135e+07     0.006790  \n",
       "max    3.639317e+08     0.094737  "
      ]
     },
     "execution_count": 87,
     "metadata": {},
     "output_type": "execute_result"
    }
   ],
   "source": [
    "# Configure the Monte Carlo simulation to forecast 30 years cumulative returns\r\n",
    "# The weights should be split 40% to AGG and 60% to SPY.\r\n",
    "# Run 500 samples.\r\n",
    "\r\n",
    "# Configure a Monte Carlo simulation to forecast 30 years cumulative returns\r\n",
    "MC_thirtyyear = MCSimulation (\r\n",
    "    portfolio_data = prices_df,\r\n",
    "    weights =[.60,.40],\r\n",
    "    num_simulation = 500,\r\n",
    "    num_trading_days = 252 * 30\r\n",
    ")\r\n",
    "# Review MCSimulation\r\n",
    "MC_thirtyyear.portfolio_data.describe()"
   ]
  },
  {
   "cell_type": "code",
   "execution_count": 74,
   "metadata": {},
   "outputs": [
    {
     "name": "stdout",
     "output_type": "stream",
     "text": [
      "Running Monte Carlo simulation number 0.\n",
      "Running Monte Carlo simulation number 10.\n",
      "Running Monte Carlo simulation number 20.\n",
      "Running Monte Carlo simulation number 30.\n",
      "Running Monte Carlo simulation number 40.\n",
      "Running Monte Carlo simulation number 50.\n",
      "Running Monte Carlo simulation number 60.\n",
      "Running Monte Carlo simulation number 70.\n",
      "Running Monte Carlo simulation number 80.\n",
      "Running Monte Carlo simulation number 90.\n",
      "Running Monte Carlo simulation number 100.\n",
      "Running Monte Carlo simulation number 110.\n",
      "Running Monte Carlo simulation number 120.\n",
      "Running Monte Carlo simulation number 130.\n",
      "Running Monte Carlo simulation number 140.\n",
      "Running Monte Carlo simulation number 150.\n",
      "Running Monte Carlo simulation number 160.\n",
      "Running Monte Carlo simulation number 170.\n",
      "Running Monte Carlo simulation number 180.\n",
      "Running Monte Carlo simulation number 190.\n",
      "Running Monte Carlo simulation number 200.\n",
      "Running Monte Carlo simulation number 210.\n",
      "Running Monte Carlo simulation number 220.\n",
      "Running Monte Carlo simulation number 230.\n",
      "Running Monte Carlo simulation number 240.\n",
      "Running Monte Carlo simulation number 250.\n",
      "Running Monte Carlo simulation number 260.\n",
      "Running Monte Carlo simulation number 270.\n",
      "Running Monte Carlo simulation number 280.\n",
      "Running Monte Carlo simulation number 290.\n",
      "Running Monte Carlo simulation number 300.\n",
      "Running Monte Carlo simulation number 310.\n",
      "Running Monte Carlo simulation number 320.\n",
      "Running Monte Carlo simulation number 330.\n",
      "Running Monte Carlo simulation number 340.\n",
      "Running Monte Carlo simulation number 350.\n",
      "Running Monte Carlo simulation number 360.\n",
      "Running Monte Carlo simulation number 370.\n",
      "Running Monte Carlo simulation number 380.\n",
      "Running Monte Carlo simulation number 390.\n",
      "Running Monte Carlo simulation number 400.\n",
      "Running Monte Carlo simulation number 410.\n",
      "Running Monte Carlo simulation number 420.\n",
      "Running Monte Carlo simulation number 430.\n",
      "Running Monte Carlo simulation number 440.\n",
      "Running Monte Carlo simulation number 450.\n",
      "Running Monte Carlo simulation number 460.\n",
      "Running Monte Carlo simulation number 470.\n",
      "Running Monte Carlo simulation number 480.\n",
      "Running Monte Carlo simulation number 490.\n"
     ]
    },
    {
     "data": {
      "text/html": [
       "<div>\n",
       "<style scoped>\n",
       "    .dataframe tbody tr th:only-of-type {\n",
       "        vertical-align: middle;\n",
       "    }\n",
       "\n",
       "    .dataframe tbody tr th {\n",
       "        vertical-align: top;\n",
       "    }\n",
       "\n",
       "    .dataframe thead th {\n",
       "        text-align: right;\n",
       "    }\n",
       "</style>\n",
       "<table border=\"1\" class=\"dataframe\">\n",
       "  <thead>\n",
       "    <tr style=\"text-align: right;\">\n",
       "      <th></th>\n",
       "      <th>0</th>\n",
       "      <th>1</th>\n",
       "      <th>2</th>\n",
       "      <th>3</th>\n",
       "      <th>4</th>\n",
       "      <th>5</th>\n",
       "      <th>6</th>\n",
       "      <th>7</th>\n",
       "      <th>8</th>\n",
       "      <th>9</th>\n",
       "      <th>...</th>\n",
       "      <th>490</th>\n",
       "      <th>491</th>\n",
       "      <th>492</th>\n",
       "      <th>493</th>\n",
       "      <th>494</th>\n",
       "      <th>495</th>\n",
       "      <th>496</th>\n",
       "      <th>497</th>\n",
       "      <th>498</th>\n",
       "      <th>499</th>\n",
       "    </tr>\n",
       "  </thead>\n",
       "  <tbody>\n",
       "    <tr>\n",
       "      <th>0</th>\n",
       "      <td>1.000000</td>\n",
       "      <td>1.000000</td>\n",
       "      <td>1.000000</td>\n",
       "      <td>1.000000</td>\n",
       "      <td>1.000000</td>\n",
       "      <td>1.000000</td>\n",
       "      <td>1.000000</td>\n",
       "      <td>1.000000</td>\n",
       "      <td>1.000000</td>\n",
       "      <td>1.000000</td>\n",
       "      <td>...</td>\n",
       "      <td>1.000000</td>\n",
       "      <td>1.000000</td>\n",
       "      <td>1.000000</td>\n",
       "      <td>1.000000</td>\n",
       "      <td>1.000000</td>\n",
       "      <td>1.000000</td>\n",
       "      <td>1.000000</td>\n",
       "      <td>1.000000</td>\n",
       "      <td>1.000000</td>\n",
       "      <td>1.000000</td>\n",
       "    </tr>\n",
       "    <tr>\n",
       "      <th>1</th>\n",
       "      <td>1.009614</td>\n",
       "      <td>0.998784</td>\n",
       "      <td>0.994771</td>\n",
       "      <td>1.001243</td>\n",
       "      <td>1.001519</td>\n",
       "      <td>0.994502</td>\n",
       "      <td>1.005686</td>\n",
       "      <td>0.998947</td>\n",
       "      <td>1.001183</td>\n",
       "      <td>1.010851</td>\n",
       "      <td>...</td>\n",
       "      <td>1.003355</td>\n",
       "      <td>1.008191</td>\n",
       "      <td>0.988707</td>\n",
       "      <td>1.006359</td>\n",
       "      <td>1.002795</td>\n",
       "      <td>0.988768</td>\n",
       "      <td>0.999132</td>\n",
       "      <td>1.009572</td>\n",
       "      <td>0.998663</td>\n",
       "      <td>0.999595</td>\n",
       "    </tr>\n",
       "    <tr>\n",
       "      <th>2</th>\n",
       "      <td>1.012213</td>\n",
       "      <td>0.996766</td>\n",
       "      <td>0.992729</td>\n",
       "      <td>1.005663</td>\n",
       "      <td>0.992603</td>\n",
       "      <td>1.001554</td>\n",
       "      <td>0.999117</td>\n",
       "      <td>1.008289</td>\n",
       "      <td>1.007955</td>\n",
       "      <td>1.010709</td>\n",
       "      <td>...</td>\n",
       "      <td>1.011326</td>\n",
       "      <td>1.010823</td>\n",
       "      <td>0.993094</td>\n",
       "      <td>1.001517</td>\n",
       "      <td>1.010856</td>\n",
       "      <td>0.992530</td>\n",
       "      <td>0.990589</td>\n",
       "      <td>1.008751</td>\n",
       "      <td>0.994732</td>\n",
       "      <td>1.004757</td>\n",
       "    </tr>\n",
       "    <tr>\n",
       "      <th>3</th>\n",
       "      <td>1.007215</td>\n",
       "      <td>0.988016</td>\n",
       "      <td>1.006563</td>\n",
       "      <td>1.003902</td>\n",
       "      <td>0.993902</td>\n",
       "      <td>0.999511</td>\n",
       "      <td>0.999994</td>\n",
       "      <td>1.012922</td>\n",
       "      <td>1.007738</td>\n",
       "      <td>1.015844</td>\n",
       "      <td>...</td>\n",
       "      <td>1.010745</td>\n",
       "      <td>1.015830</td>\n",
       "      <td>0.986908</td>\n",
       "      <td>1.007055</td>\n",
       "      <td>1.007659</td>\n",
       "      <td>0.992440</td>\n",
       "      <td>0.981002</td>\n",
       "      <td>1.010568</td>\n",
       "      <td>0.982000</td>\n",
       "      <td>1.006831</td>\n",
       "    </tr>\n",
       "    <tr>\n",
       "      <th>4</th>\n",
       "      <td>1.015480</td>\n",
       "      <td>0.996295</td>\n",
       "      <td>1.004879</td>\n",
       "      <td>1.007813</td>\n",
       "      <td>0.999718</td>\n",
       "      <td>1.005095</td>\n",
       "      <td>0.997206</td>\n",
       "      <td>1.006157</td>\n",
       "      <td>1.011450</td>\n",
       "      <td>1.017571</td>\n",
       "      <td>...</td>\n",
       "      <td>1.013548</td>\n",
       "      <td>1.026441</td>\n",
       "      <td>0.986530</td>\n",
       "      <td>1.009600</td>\n",
       "      <td>1.004979</td>\n",
       "      <td>0.993627</td>\n",
       "      <td>0.976704</td>\n",
       "      <td>1.018766</td>\n",
       "      <td>0.987218</td>\n",
       "      <td>1.013085</td>\n",
       "    </tr>\n",
       "    <tr>\n",
       "      <th>...</th>\n",
       "      <td>...</td>\n",
       "      <td>...</td>\n",
       "      <td>...</td>\n",
       "      <td>...</td>\n",
       "      <td>...</td>\n",
       "      <td>...</td>\n",
       "      <td>...</td>\n",
       "      <td>...</td>\n",
       "      <td>...</td>\n",
       "      <td>...</td>\n",
       "      <td>...</td>\n",
       "      <td>...</td>\n",
       "      <td>...</td>\n",
       "      <td>...</td>\n",
       "      <td>...</td>\n",
       "      <td>...</td>\n",
       "      <td>...</td>\n",
       "      <td>...</td>\n",
       "      <td>...</td>\n",
       "      <td>...</td>\n",
       "      <td>...</td>\n",
       "    </tr>\n",
       "    <tr>\n",
       "      <th>7556</th>\n",
       "      <td>21.694072</td>\n",
       "      <td>6.561143</td>\n",
       "      <td>20.347409</td>\n",
       "      <td>11.643815</td>\n",
       "      <td>15.400565</td>\n",
       "      <td>9.146481</td>\n",
       "      <td>11.286500</td>\n",
       "      <td>10.031174</td>\n",
       "      <td>23.079326</td>\n",
       "      <td>6.170082</td>\n",
       "      <td>...</td>\n",
       "      <td>10.478471</td>\n",
       "      <td>11.690949</td>\n",
       "      <td>9.256607</td>\n",
       "      <td>27.469032</td>\n",
       "      <td>19.376624</td>\n",
       "      <td>7.065535</td>\n",
       "      <td>7.491295</td>\n",
       "      <td>9.982325</td>\n",
       "      <td>13.720668</td>\n",
       "      <td>44.772017</td>\n",
       "    </tr>\n",
       "    <tr>\n",
       "      <th>7557</th>\n",
       "      <td>21.638871</td>\n",
       "      <td>6.570079</td>\n",
       "      <td>20.420524</td>\n",
       "      <td>11.541984</td>\n",
       "      <td>15.224539</td>\n",
       "      <td>9.204539</td>\n",
       "      <td>11.224152</td>\n",
       "      <td>10.063718</td>\n",
       "      <td>23.103160</td>\n",
       "      <td>6.158193</td>\n",
       "      <td>...</td>\n",
       "      <td>10.572191</td>\n",
       "      <td>11.693202</td>\n",
       "      <td>9.333245</td>\n",
       "      <td>27.462395</td>\n",
       "      <td>19.333370</td>\n",
       "      <td>7.170977</td>\n",
       "      <td>7.402514</td>\n",
       "      <td>10.018800</td>\n",
       "      <td>13.592934</td>\n",
       "      <td>44.584376</td>\n",
       "    </tr>\n",
       "    <tr>\n",
       "      <th>7558</th>\n",
       "      <td>21.384966</td>\n",
       "      <td>6.575430</td>\n",
       "      <td>20.330373</td>\n",
       "      <td>11.398199</td>\n",
       "      <td>15.187738</td>\n",
       "      <td>9.264808</td>\n",
       "      <td>11.170018</td>\n",
       "      <td>10.210804</td>\n",
       "      <td>23.100503</td>\n",
       "      <td>6.067837</td>\n",
       "      <td>...</td>\n",
       "      <td>10.550099</td>\n",
       "      <td>11.553763</td>\n",
       "      <td>9.213121</td>\n",
       "      <td>27.494124</td>\n",
       "      <td>19.212655</td>\n",
       "      <td>7.153370</td>\n",
       "      <td>7.416321</td>\n",
       "      <td>10.028902</td>\n",
       "      <td>13.539100</td>\n",
       "      <td>44.391722</td>\n",
       "    </tr>\n",
       "    <tr>\n",
       "      <th>7559</th>\n",
       "      <td>21.373970</td>\n",
       "      <td>6.504617</td>\n",
       "      <td>20.407511</td>\n",
       "      <td>11.449655</td>\n",
       "      <td>15.062727</td>\n",
       "      <td>9.273901</td>\n",
       "      <td>11.039809</td>\n",
       "      <td>10.181071</td>\n",
       "      <td>22.995743</td>\n",
       "      <td>6.086672</td>\n",
       "      <td>...</td>\n",
       "      <td>10.449689</td>\n",
       "      <td>11.654781</td>\n",
       "      <td>9.209371</td>\n",
       "      <td>27.494763</td>\n",
       "      <td>19.232899</td>\n",
       "      <td>7.189008</td>\n",
       "      <td>7.291053</td>\n",
       "      <td>10.021998</td>\n",
       "      <td>13.590233</td>\n",
       "      <td>43.988129</td>\n",
       "    </tr>\n",
       "    <tr>\n",
       "      <th>7560</th>\n",
       "      <td>21.666892</td>\n",
       "      <td>6.514591</td>\n",
       "      <td>20.396180</td>\n",
       "      <td>11.476373</td>\n",
       "      <td>14.992453</td>\n",
       "      <td>9.244062</td>\n",
       "      <td>10.954363</td>\n",
       "      <td>10.121151</td>\n",
       "      <td>22.954674</td>\n",
       "      <td>6.138143</td>\n",
       "      <td>...</td>\n",
       "      <td>10.431206</td>\n",
       "      <td>11.594550</td>\n",
       "      <td>9.261314</td>\n",
       "      <td>27.652850</td>\n",
       "      <td>18.920219</td>\n",
       "      <td>7.136910</td>\n",
       "      <td>7.317500</td>\n",
       "      <td>9.920466</td>\n",
       "      <td>13.751170</td>\n",
       "      <td>43.978365</td>\n",
       "    </tr>\n",
       "  </tbody>\n",
       "</table>\n",
       "<p>7561 rows × 500 columns</p>\n",
       "</div>"
      ],
      "text/plain": [
       "            0         1          2          3          4         5    \\\n",
       "0      1.000000  1.000000   1.000000   1.000000   1.000000  1.000000   \n",
       "1      1.009614  0.998784   0.994771   1.001243   1.001519  0.994502   \n",
       "2      1.012213  0.996766   0.992729   1.005663   0.992603  1.001554   \n",
       "3      1.007215  0.988016   1.006563   1.003902   0.993902  0.999511   \n",
       "4      1.015480  0.996295   1.004879   1.007813   0.999718  1.005095   \n",
       "...         ...       ...        ...        ...        ...       ...   \n",
       "7556  21.694072  6.561143  20.347409  11.643815  15.400565  9.146481   \n",
       "7557  21.638871  6.570079  20.420524  11.541984  15.224539  9.204539   \n",
       "7558  21.384966  6.575430  20.330373  11.398199  15.187738  9.264808   \n",
       "7559  21.373970  6.504617  20.407511  11.449655  15.062727  9.273901   \n",
       "7560  21.666892  6.514591  20.396180  11.476373  14.992453  9.244062   \n",
       "\n",
       "            6          7          8         9    ...        490        491  \\\n",
       "0      1.000000   1.000000   1.000000  1.000000  ...   1.000000   1.000000   \n",
       "1      1.005686   0.998947   1.001183  1.010851  ...   1.003355   1.008191   \n",
       "2      0.999117   1.008289   1.007955  1.010709  ...   1.011326   1.010823   \n",
       "3      0.999994   1.012922   1.007738  1.015844  ...   1.010745   1.015830   \n",
       "4      0.997206   1.006157   1.011450  1.017571  ...   1.013548   1.026441   \n",
       "...         ...        ...        ...       ...  ...        ...        ...   \n",
       "7556  11.286500  10.031174  23.079326  6.170082  ...  10.478471  11.690949   \n",
       "7557  11.224152  10.063718  23.103160  6.158193  ...  10.572191  11.693202   \n",
       "7558  11.170018  10.210804  23.100503  6.067837  ...  10.550099  11.553763   \n",
       "7559  11.039809  10.181071  22.995743  6.086672  ...  10.449689  11.654781   \n",
       "7560  10.954363  10.121151  22.954674  6.138143  ...  10.431206  11.594550   \n",
       "\n",
       "           492        493        494       495       496        497  \\\n",
       "0     1.000000   1.000000   1.000000  1.000000  1.000000   1.000000   \n",
       "1     0.988707   1.006359   1.002795  0.988768  0.999132   1.009572   \n",
       "2     0.993094   1.001517   1.010856  0.992530  0.990589   1.008751   \n",
       "3     0.986908   1.007055   1.007659  0.992440  0.981002   1.010568   \n",
       "4     0.986530   1.009600   1.004979  0.993627  0.976704   1.018766   \n",
       "...        ...        ...        ...       ...       ...        ...   \n",
       "7556  9.256607  27.469032  19.376624  7.065535  7.491295   9.982325   \n",
       "7557  9.333245  27.462395  19.333370  7.170977  7.402514  10.018800   \n",
       "7558  9.213121  27.494124  19.212655  7.153370  7.416321  10.028902   \n",
       "7559  9.209371  27.494763  19.232899  7.189008  7.291053  10.021998   \n",
       "7560  9.261314  27.652850  18.920219  7.136910  7.317500   9.920466   \n",
       "\n",
       "            498        499  \n",
       "0      1.000000   1.000000  \n",
       "1      0.998663   0.999595  \n",
       "2      0.994732   1.004757  \n",
       "3      0.982000   1.006831  \n",
       "4      0.987218   1.013085  \n",
       "...         ...        ...  \n",
       "7556  13.720668  44.772017  \n",
       "7557  13.592934  44.584376  \n",
       "7558  13.539100  44.391722  \n",
       "7559  13.590233  43.988129  \n",
       "7560  13.751170  43.978365  \n",
       "\n",
       "[7561 rows x 500 columns]"
      ]
     },
     "execution_count": 74,
     "metadata": {},
     "output_type": "execute_result"
    }
   ],
   "source": [
    "# Run the Monte Carlo simulation to forecast 30 years cumulative returns\r\n",
    "MC_thirtyyear.calc_cumulative_return()"
   ]
  },
  {
   "cell_type": "code",
   "execution_count": null,
   "metadata": {},
   "outputs": [
    {
     "data": {
      "image/png": "[encoded data removed]",
      "text/plain": [
       "<Figure size 432x288 with 1 Axes>"
      ]
     },
     "metadata": {
      "needs_background": "light"
     },
     "output_type": "display_data"
    }
   ],
   "source": [
    "# Visualize the 30-year Monte Carlo simulation by creating an\r\n",
    "# overlay line plot\r\n",
    "MC_simulation_line_plot = MC_thirtyyear.plot_simulation()\r\n",
    "\r\n",
    "# Save the plot for future use\r\n",
    "MC_simulation_line_plot.get_figure().savefig(\"MC_thirtyyear_simulation_plot.png\", bbox_inches=\"tight\")"
   ]
  },
  {
   "cell_type": "markdown",
   "metadata": {},
   "source": [
    "#### Step 3: Plot the probability distribution of the Monte Carlo simulation."
   ]
  },
  {
   "cell_type": "code",
   "execution_count": null,
   "metadata": {},
   "outputs": [
    {
     "data": {
      "image/png": "[encoded data removed]",
      "text/plain": [
       "<Figure size 432x288 with 1 Axes>"
      ]
     },
     "metadata": {
      "needs_background": "light"
     },
     "output_type": "display_data"
    }
   ],
   "source": [
    "# Visualize the probability distribution of the 30-year Monte Carlo simulation \r\n",
    "# by plotting a histogram\r\n",
    "# Plot probability distribution and confidence intervals\r\n",
    "MC_simulation_dist_plot = MC_thirtyyear.plot_distribution()\r\n",
    "\r\n",
    "# Save the plot for future use\r\n",
    "MC_simulation_dist_plot.get_figure().savefig('MC_thirtyyear_distribution_plot.png',bbox_inches='tight')\r\n"
   ]
  },
  {
   "cell_type": "markdown",
   "metadata": {},
   "source": [
    "#### Step 4: Generate the summary statistics for the Monte Carlo simulation."
   ]
  },
  {
   "cell_type": "code",
   "execution_count": null,
   "metadata": {},
   "outputs": [
    {
     "name": "stdout",
     "output_type": "stream",
     "text": [
      "count           500.000000\n",
      "mean             13.631677\n",
      "std               7.680545\n",
      "min               2.318664\n",
      "25%               8.355956\n",
      "50%              11.620464\n",
      "75%              16.744221\n",
      "max              50.625879\n",
      "95% CI Lower      4.065433\n",
      "95% CI Upper     34.689814\n",
      "Name: 7560, dtype: float64\n"
     ]
    }
   ],
   "source": [
    "# Generate summary statistics from the 30-year Monte Carlo simulation results\r\n",
    "# Save the results as a variable\r\n",
    "MC_summary_statistics = MC_thirtyyear.summarize_cumulative_return()\r\n",
    "\r\n",
    "# Review the 30-year Monte Carlo summary statistics\r\n",
    "print(MC_summary_statistics)"
   ]
  },
  {
   "cell_type": "markdown",
   "metadata": {},
   "source": [
    "### Analyze the Retirement Portfolio Forecasts\n",
    "\n",
    "Using the current value of only the stock and bond portion of the member's portfolio and the summary statistics that you generated from the Monte Carlo simulation, answer the following question in your Jupyter notebook:\n",
    "\n",
    "-  What are the lower and upper bounds for the expected value of the portfolio with a 95% confidence interval?\n"
   ]
  },
  {
   "cell_type": "code",
   "execution_count": 75,
   "metadata": {},
   "outputs": [
    {
     "name": "stdout",
     "output_type": "stream",
     "text": [
      "There is a 95% chance that the current value of the stock and bond portion of the member's portfolio over the next 30 years will be within the range of $291211.05 and $2484866.07\n"
     ]
    }
   ],
   "source": [
    "# Use the lower and upper `95%` confidence intervals to calculate the range of the possible outcomes for the current stock/bond portfolio\r\n",
    "ci_lower_thirty_cumulative_return = MC_summary_statistics[8] * total_stocks_bonds\r\n",
    "ci_upper_thirty_cumulative_return = MC_summary_statistics[9] * total_stocks_bonds\r\n",
    "\r\n",
    "# Print the result of your calculations\r\n",
    "\r\n",
    "print(f\"There is a 95% chance that the current value of the stock and bond portion of the member's portfolio over the next 30 years\"\r\n",
    "      f\" will be within the range of ${ci_lower_thirty_cumulative_return:.2f} and ${ci_upper_thirty_cumulative_return:.2f}\")"
   ]
  },
  {
   "cell_type": "code",
   "execution_count": null,
   "metadata": {},
   "outputs": [
    {
     "data": {
      "image/png": "[encoded data removed]",
      "text/plain": [
       "<Figure size 432x288 with 1 Axes>"
      ]
     },
     "output_type": "unknown"
    }
   ],
   "source": [
    "# Visualize the probability distribution of the 30-year Monte Carlo simulation \r\n",
    "# by plotting a histogram\r\n",
    "# Plot probability distribution and confidence intervals\r\n",
    "MC_simulation_dist_plot = MC_thirtyyear.plot_distribution()\r\n",
    "\r\n",
    "# Save the plot for future use\r\n",
    "MC_simulation_dist_plot.get_figure().savefig('MC_thirtyyear_distribution_plot.png',bbox_inches='tight')\r\n"
   ]
  },
  {
   "cell_type": "markdown",
   "metadata": {},
   "source": [
    "### Forecast Cumulative Returns in 10 Years\n",
    "\n",
    "The CTO of the credit union is impressed with your work on these planning tools but wonders if 30 years is a long time to wait until retirement. So, your next task is to adjust the retirement portfolio and run a new Monte Carlo simulation to find out if the changes will allow members to retire earlier.\n",
    "\n",
    "For this new Monte Carlo simulation, do the following: \n",
    "\n",
    "- Forecast the cumulative returns for 10 years from now. Because of the shortened investment horizon (30 years to 10 years), the portfolio needs to invest more heavily in the riskier asset&mdash;that is, stock&mdash;to help accumulate wealth for retirement. \n",
    "\n",
    "- Adjust the weights of the retirement portfolio so that the composition for the Monte Carlo simulation consists of 20% bonds and 80% stocks. \n",
    "\n",
    "- Run the simulation over 500 samples, and use the same data that the API call to Alpaca generated.\n",
    "\n",
    "- Based on the new Monte Carlo simulation, answer the following questions in your Jupyter notebook:\n",
    "\n",
    "    - Using the current value of only the stock and bond portion of the member's portfolio and the summary statistics that you generated from the new Monte Carlo simulation, what are the lower and upper bounds for the expected value of the portfolio (with the new weights) with a 95% confidence interval?\n",
    "\n",
    "    - Will weighting the portfolio more heavily toward stocks allow the credit union members to retire after only 10 years?\n"
   ]
  },
  {
   "cell_type": "code",
   "execution_count": 79,
   "metadata": {},
   "outputs": [
    {
     "name": "stdout",
     "output_type": "stream",
     "text": [
      "              AGG                                                    \\\n",
      "             open        high         low       close        volume   \n",
      "count  756.000000  756.000000  756.000000  756.000000  7.560000e+02   \n",
      "mean   112.676011  112.822135  112.497692  112.672147  5.381732e+06   \n",
      "std      4.550233    4.546833    4.533968    4.535925  4.640362e+06   \n",
      "min    104.070000  104.169900  103.940000  104.005000  1.230459e+06   \n",
      "25%    108.460000  108.545000  108.278750  108.422500  2.797905e+06   \n",
      "50%    113.515000  113.729950  113.325000  113.570000  4.031191e+06   \n",
      "75%    117.030000  117.222500  116.833625  117.012500  5.867358e+06   \n",
      "max    119.660000  119.730000  119.530000  119.630000  4.357488e+07   \n",
      "\n",
      "              SPY                                                    \n",
      "             open        high         low       close        volume  \n",
      "count  756.000000  756.000000  756.000000  756.000000  7.560000e+02  \n",
      "mean   319.011447  320.898581  316.856306  319.056790  7.903051e+07  \n",
      "std     48.149182   47.957083   48.372875   48.189802  5.481888e+07  \n",
      "min    228.190000  229.683300  218.260000  222.510000  1.531436e+07  \n",
      "25%    284.680000  286.000000  282.382500  284.727500  4.485930e+07  \n",
      "50%    301.190000  302.215000  299.455050  301.055000  5.936590e+07  \n",
      "75%    343.575000  346.997500  342.315000  343.822475  8.880135e+07  \n",
      "max    437.390000  437.920000  435.310000  437.080000  3.639317e+08  \n"
     ]
    }
   ],
   "source": [
    "# Configure a Monte Carlo simulation to forecast 10 years cumulative returns\r\n",
    "# The weights should be split 20% to AGG and 80% to SPY.\r\n",
    "# Run 500 samples.\r\n",
    "MC_tenyear = MCSimulation (\r\n",
    "    portfolio_data = prices_df,\r\n",
    "    weights =[.20,.80],\r\n",
    "    num_simulation = 500,\r\n",
    "    num_trading_days = 252 * 10\r\n",
    ")\r\n",
    "# Review the first 5 rows of the MCSimulation\r\n",
    "MC_tenyear.portfolio_data.head()\r\n",
    "\r\n",
    "# Review the simulation input data\r\n",
    "print(prices_df.describe())\r\n"
   ]
  },
  {
   "cell_type": "code",
   "execution_count": 80,
   "metadata": {},
   "outputs": [
    {
     "name": "stdout",
     "output_type": "stream",
     "text": [
      "Running Monte Carlo simulation number 0.\n",
      "Running Monte Carlo simulation number 10.\n",
      "Running Monte Carlo simulation number 20.\n",
      "Running Monte Carlo simulation number 30.\n",
      "Running Monte Carlo simulation number 40.\n",
      "Running Monte Carlo simulation number 50.\n",
      "Running Monte Carlo simulation number 60.\n",
      "Running Monte Carlo simulation number 70.\n",
      "Running Monte Carlo simulation number 80.\n",
      "Running Monte Carlo simulation number 90.\n",
      "Running Monte Carlo simulation number 100.\n",
      "Running Monte Carlo simulation number 110.\n",
      "Running Monte Carlo simulation number 120.\n",
      "Running Monte Carlo simulation number 130.\n",
      "Running Monte Carlo simulation number 140.\n",
      "Running Monte Carlo simulation number 150.\n",
      "Running Monte Carlo simulation number 160.\n",
      "Running Monte Carlo simulation number 170.\n",
      "Running Monte Carlo simulation number 180.\n",
      "Running Monte Carlo simulation number 190.\n",
      "Running Monte Carlo simulation number 200.\n",
      "Running Monte Carlo simulation number 210.\n",
      "Running Monte Carlo simulation number 220.\n",
      "Running Monte Carlo simulation number 230.\n",
      "Running Monte Carlo simulation number 240.\n",
      "Running Monte Carlo simulation number 250.\n",
      "Running Monte Carlo simulation number 260.\n",
      "Running Monte Carlo simulation number 270.\n",
      "Running Monte Carlo simulation number 280.\n",
      "Running Monte Carlo simulation number 290.\n",
      "Running Monte Carlo simulation number 300.\n",
      "Running Monte Carlo simulation number 310.\n",
      "Running Monte Carlo simulation number 320.\n",
      "Running Monte Carlo simulation number 330.\n",
      "Running Monte Carlo simulation number 340.\n",
      "Running Monte Carlo simulation number 350.\n",
      "Running Monte Carlo simulation number 360.\n",
      "Running Monte Carlo simulation number 370.\n",
      "Running Monte Carlo simulation number 380.\n",
      "Running Monte Carlo simulation number 390.\n",
      "Running Monte Carlo simulation number 400.\n",
      "Running Monte Carlo simulation number 410.\n",
      "Running Monte Carlo simulation number 420.\n",
      "Running Monte Carlo simulation number 430.\n",
      "Running Monte Carlo simulation number 440.\n",
      "Running Monte Carlo simulation number 450.\n",
      "Running Monte Carlo simulation number 460.\n",
      "Running Monte Carlo simulation number 470.\n",
      "Running Monte Carlo simulation number 480.\n",
      "Running Monte Carlo simulation number 490.\n",
      "count           500.000000\n",
      "mean              4.251233\n",
      "std               2.546710\n",
      "min               0.714343\n",
      "25%               2.407819\n",
      "50%               3.690263\n",
      "75%               5.225081\n",
      "max              18.868246\n",
      "95% CI Lower      1.225145\n",
      "95% CI Upper     10.656743\n",
      "Name: 2520, dtype: float64\n"
     ]
    }
   ],
   "source": [
    "# Run the Monte Carlo simulation to forecast 10 years cumulative returns\r\n",
    "MC_summary_statistics = MC_tenyear.summarize_cumulative_return()\r\n",
    "\r\n",
    "# Review the 30-year Monte Carlo summary statistics\r\n",
    "print(MC_summary_statistics)\r\n"
   ]
  },
  {
   "cell_type": "code",
   "execution_count": 81,
   "metadata": {},
   "outputs": [
    {
     "data": {
      "image/png": "[encoded data removed]",
      "text/plain": [
       "<Figure size 432x288 with 1 Axes>"
      ]
     },
     "metadata": {
      "needs_background": "light"
     },
     "output_type": "display_data"
    }
   ],
   "source": [
    "# Visualize the 10-year Monte Carlo simulation by creating an\r\n",
    "# overlay line plot\r\n",
    "MC_simulation_line_plot = MC_tenyear.plot_simulation()\r\n",
    "\r\n",
    "# Save the plot for future use\r\n",
    "MC_simulation_line_plot.get_figure().savefig(\"MC_tenyear_simulation_plot.png\", bbox_inches=\"tight\")\r\n"
   ]
  },
  {
   "cell_type": "code",
   "execution_count": 82,
   "metadata": {},
   "outputs": [
    {
     "data": {
      "image/png": "[encoded data removed]",
      "text/plain": [
       "<Figure size 432x288 with 1 Axes>"
      ]
     },
     "metadata": {
      "needs_background": "light"
     },
     "output_type": "display_data"
    }
   ],
   "source": [
    "# Visualize the probability distribution of the 10-year Monte Carlo simulation \r\n",
    "# by plotting a histogram\r\n",
    "MC_simulation_dist_plot = MC_tenyear.plot_distribution()\r\n",
    "\r\n",
    "# Save the plot for future use\r\n",
    "MC_simulation_dist_plot.get_figure().savefig('MC_tenyear_distribution_plot.png',bbox_inches='tight')\r\n",
    "\r\n"
   ]
  },
  {
   "cell_type": "code",
   "execution_count": 83,
   "metadata": {},
   "outputs": [
    {
     "name": "stdout",
     "output_type": "stream",
     "text": [
      "count           500.000000\n",
      "mean              4.251233\n",
      "std               2.546710\n",
      "min               0.714343\n",
      "25%               2.407819\n",
      "50%               3.690263\n",
      "75%               5.225081\n",
      "max              18.868246\n",
      "95% CI Lower      1.225145\n",
      "95% CI Upper     10.656743\n",
      "Name: 2520, dtype: float64\n"
     ]
    }
   ],
   "source": [
    "# Generate summary statistics from the 10-year Monte Carlo simulation results\r\n",
    "# Save the results as a variable\r\n",
    "MC_summary_statistics = MC_tenyear.summarize_cumulative_return()\r\n",
    "\r\n",
    "# Review the 10-year Monte Carlo summary statistics\r\n",
    "print(MC_summary_statistics)"
   ]
  },
  {
   "cell_type": "markdown",
   "metadata": {},
   "source": [
    "### Answer the following questions:"
   ]
  },
  {
   "cell_type": "markdown",
   "metadata": {},
   "source": [
    "#### Question: Using the current value of only the stock and bond portion of the member's portfolio and the summary statistics that you generated from the new Monte Carlo simulation, what are the lower and upper bounds for the expected value of the portfolio (with the new weights) with a 95% confidence interval?"
   ]
  },
  {
   "cell_type": "code",
   "execution_count": 85,
   "metadata": {},
   "outputs": [
    {
     "name": "stdout",
     "output_type": "stream",
     "text": [
      "The current balance of the stock and bond portion of the members portfolio is $71631.00 .\n"
     ]
    }
   ],
   "source": [
    "# Print the current balance of the stock and bond portion of the members portfolio\r\n",
    "print(f\"The current balance of the stock and bond portion of the members portfolio is ${total_stocks_bonds:.2f} .\")\r\n"
   ]
  },
  {
   "cell_type": "code",
   "execution_count": 86,
   "metadata": {},
   "outputs": [
    {
     "name": "stdout",
     "output_type": "stream",
     "text": [
      "There is a 95% chance that the current value of the stock and bond portion of the member's portfolio over the next 10 years will be within the range of $87758.34 and $763353.17\n"
     ]
    }
   ],
   "source": [
    "# Use the lower and upper `95%` confidence intervals to calculate the range of the possible outcomes for the current stock/bond portfolio\r\n",
    "ci_lower_ten_cumulative_return = MC_summary_statistics[8] * total_stocks_bonds\r\n",
    "ci_upper_ten_cumulative_return = MC_summary_statistics[9] * total_stocks_bonds\r\n",
    "\r\n",
    "# Print the result of your calculations\r\n",
    "\r\n",
    "print(f\"There is a 95% chance that the current value of the stock and bond portion of the member's portfolio over the next 10 years\"\r\n",
    "      f\" will be within the range of ${ci_lower_ten_cumulative_return:.2f} and ${ci_upper_ten_cumulative_return:.2f}\")\r\n"
   ]
  },
  {
   "cell_type": "markdown",
   "metadata": {},
   "source": [
    "#### Question: Will weighting the portfolio more heavily to stocks allow the credit union members to retire after only 10 years?"
   ]
  },
  {
   "cell_type": "raw",
   "metadata": {},
   "source": [
    "There is a 95% chance that the current value of the stock and bond portion of the member's portfolio over a 30 year period will be within the range of $291211.05 and $2484866.07. However, \r\n",
    "There is a 95% chance that the current value of the stock and bond portion of the member's portfolio over the next 10 years will be within the range of $87758.34 and $763353.17.\r\n",
    "Yes depending if the member is willing willing to retire in a shorter period of time they could potentially be in the lower of a retierement portfolio value range vs the 30 year range."
   ]
  }
 ],
 "metadata": {
  "interpreter": {
   "hash": "0a6b53b808be22ed9015cf5d408376640e4deef689ef9b186ab992a818d0bc32"
  },
  "kernelspec": {
   "display_name": "Python 3.9.4 64-bit ('dev': conda)",
   "name": "python3"
  },
  "language_info": {
   "codemirror_mode": {
    "name": "ipython",
    "version": 3
   },
   "file_extension": ".py",
   "mimetype": "text/x-python",
   "name": "python",
   "nbconvert_exporter": "python",
   "pygments_lexer": "ipython3",
   "version": "3.9.4"
  }
 },
 "nbformat": 4,
 "nbformat_minor": 4
}